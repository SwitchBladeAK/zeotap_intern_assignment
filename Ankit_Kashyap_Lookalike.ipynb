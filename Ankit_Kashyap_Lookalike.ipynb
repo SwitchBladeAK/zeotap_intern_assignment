{
  "nbformat": 4,
  "nbformat_minor": 0,
  "metadata": {
    "colab": {
      "provenance": []
    },
    "kernelspec": {
      "name": "python3",
      "display_name": "Python 3"
    },
    "language_info": {
      "name": "python"
    }
  },
  "cells": [
    {
      "cell_type": "markdown",
      "source": [
        "# **TASK 2**"
      ],
      "metadata": {
        "id": "tD3URGwqpsXd"
      }
    },
    {
      "cell_type": "code",
      "execution_count": 6,
      "metadata": {
        "id": "phaqeZPIpP1t"
      },
      "outputs": [],
      "source": [
        "import pandas as pd\n",
        "import matplotlib.pyplot as plt\n",
        "import seaborn as sns\n",
        "\n",
        "\n",
        "customers = pd.read_csv('/content/Customers.csv')\n",
        "products = pd.read_csv('/content/Products.csv')\n",
        "transactions = pd.read_csv('/content/Transactions.csv')\n"
      ]
    },
    {
      "cell_type": "code",
      "source": [
        "from sklearn.metrics.pairwise import cosine_similarity\n",
        "from sklearn.preprocessing import StandardScaler\n",
        "\n",
        "customer_transactions = pd.merge(transactions, customers, on='CustomerID', how='left')\n",
        "\n",
        "customer_product_matrix = customer_transactions.groupby(['CustomerID', 'ProductID'])['Quantity'].sum().unstack(fill_value=0)\n",
        "\n",
        "scaler = StandardScaler()\n",
        "scaled_matrix = scaler.fit_transform(customer_product_matrix)\n",
        "\n",
        "cosine_similarities = cosine_similarity(scaled_matrix)\n",
        "\n",
        "cosine_sim_df = pd.DataFrame(cosine_similarities, index=customer_product_matrix.index, columns=customer_product_matrix.index)\n",
        "\n",
        "def find_top_similar_customers(customer_id, top_n=3):\n",
        "    similarities = cosine_sim_df.loc[customer_id].sort_values(ascending=False)\n",
        "\n",
        "    top_similar = similarities[similarities.index != customer_id].head(top_n)\n",
        "    return list(zip(top_similar.index, top_similar.values))\n",
        "\n",
        "\n",
        "lookalike_data = {}\n",
        "for customer_id in customer_product_matrix.index[:20]:\n",
        "    lookalike_data[customer_id] = find_top_similar_customers(customer_id)\n",
        "\n",
        "lookalike_df = pd.DataFrame.from_dict(lookalike_data, orient='index')\n",
        "lookalike_df.index.name = 'cust_id'\n",
        "lookalike_df = lookalike_df.rename(columns={0: 'lookalike_customers'})\n",
        "\n",
        "lookalike_df.to_csv('Lookalike.csv')\n",
        "\n",
        "for customer_id in customer_product_matrix.index[:20]:\n",
        "  print(f\"Lookalike customers for {customer_id}: {lookalike_data[customer_id]}\")"
      ],
      "metadata": {
        "colab": {
          "base_uri": "https://localhost:8080/"
        },
        "id": "LPalt4g6pWjy",
        "outputId": "a2c84ca3-85c9-4cfd-a4fd-38536d81bf8f"
      },
      "execution_count": 7,
      "outputs": [
        {
          "output_type": "stream",
          "name": "stdout",
          "text": [
            "Lookalike customers for C0001: [('C0194', 0.40492753118932373), ('C0104', 0.3740015051203949), ('C0020', 0.36660865634533324)]\n",
            "Lookalike customers for C0002: [('C0030', 0.40461685378594003), ('C0091', 0.3837780302090941), ('C0071', 0.3201579810580884)]\n",
            "Lookalike customers for C0003: [('C0181', 0.4775717980039302), ('C0134', 0.47101615387801016), ('C0144', 0.42379990716450344)]\n",
            "Lookalike customers for C0004: [('C0070', 0.3519014889798181), ('C0175', 0.31609789792660986), ('C0132', 0.27959855424498276)]\n",
            "Lookalike customers for C0005: [('C0096', 0.48745613929263837), ('C0023', 0.47025182492905426), ('C0055', 0.3820996241448576)]\n",
            "Lookalike customers for C0006: [('C0040', 0.48690905811550494), ('C0178', 0.3978109049066894), ('C0058', 0.3141630233621915)]\n",
            "Lookalike customers for C0007: [('C0079', 0.6174415040345886), ('C0118', 0.47827697423174215), ('C0020', 0.456615034666693)]\n",
            "Lookalike customers for C0008: [('C0144', 0.326750548833923), ('C0169', 0.2788847602830608), ('C0091', 0.260560334551999)]\n",
            "Lookalike customers for C0009: [('C0140', 0.5334414848517175), ('C0083', 0.5308424299367163), ('C0162', 0.49889269779678075)]\n",
            "Lookalike customers for C0010: [('C0094', 0.5150640624213312), ('C0092', 0.40551651716491116), ('C0143', 0.36601219885018854)]\n",
            "Lookalike customers for C0011: [('C0135', 0.5132829815830873), ('C0120', 0.36518919196353133), ('C0173', 0.30476072206930577)]\n",
            "Lookalike customers for C0012: [('C0164', 0.48825704802260905), ('C0158', 0.3751295627905279), ('C0173', 0.3562327676008179)]\n",
            "Lookalike customers for C0013: [('C0169', 0.45075553111040606), ('C0092', 0.36768012556506685), ('C0099', 0.31724495457460594)]\n",
            "Lookalike customers for C0014: [('C0128', 0.9029431929322238), ('C0159', 0.762785383779116), ('C0058', 0.4170254520952296)]\n",
            "Lookalike customers for C0015: [('C0073', 0.723118686204292), ('C0036', 0.5997106100667376), ('C0059', 0.4509810721195059)]\n",
            "Lookalike customers for C0016: [('C0187', 0.6344636680418954), ('C0064', 0.5402930019578338), ('C0052', 0.4583307205365149)]\n",
            "Lookalike customers for C0017: [('C0071', 0.45552083064813587), ('C0024', 0.35875591144627517), ('C0037', 0.355628091912283)]\n",
            "Lookalike customers for C0018: [('C0177', 0.3650726150609098), ('C0115', 0.3248317582517501), ('C0059', 0.31189939390793797)]\n",
            "Lookalike customers for C0019: [('C0064', 0.397781517608895), ('C0024', 0.38594281438544253), ('C0084', 0.31264571801309193)]\n",
            "Lookalike customers for C0020: [('C0026', 0.6270690651519939), ('C0104', 0.4724650853066016), ('C0007', 0.456615034666693)]\n"
          ]
        }
      ]
    },
    {
      "cell_type": "code",
      "source": [
        "import pandas as pd\n",
        "\n",
        "\n",
        "def print_lookalike_table(lookalike_data):\n",
        "    \"\"\"Prints lookalike customer data in a formatted table.\"\"\"\n",
        "    table_rows = []\n",
        "\n",
        "    table_rows.append([\"Customer ID\", \"Lookalike Customer ID\", \"Similarity Score\"])\n",
        "\n",
        "    for customer_id, lookalikes in lookalike_data.items():\n",
        "        for lookalike_id, similarity_score in lookalikes:\n",
        "            table_rows.append([customer_id, lookalike_id, similarity_score])\n",
        "\n",
        "\n",
        "    column_widths = [max(len(str(row[i])) for row in table_rows) for i in range(len(table_rows[0]))]\n",
        "\n",
        "    for row in table_rows:\n",
        "        formatted_row = \"\"\n",
        "        for i, cell in enumerate(row):\n",
        "            formatted_row += str(cell).ljust(column_widths[i] + 2)\n",
        "        print(formatted_row)\n",
        "\n",
        "print_lookalike_table(lookalike_data)"
      ],
      "metadata": {
        "colab": {
          "base_uri": "https://localhost:8080/"
        },
        "id": "Py4_p7nlrT4m",
        "outputId": "02e7f32c-5f68-4978-b13c-792078877198"
      },
      "execution_count": 18,
      "outputs": [
        {
          "output_type": "stream",
          "name": "stdout",
          "text": [
            "Customer ID  Lookalike Customer ID  Similarity Score     \n",
            "C0001        C0194                  0.40492753118932373  \n",
            "C0001        C0104                  0.3740015051203949   \n",
            "C0001        C0020                  0.36660865634533324  \n",
            "C0002        C0030                  0.40461685378594003  \n",
            "C0002        C0091                  0.3837780302090941   \n",
            "C0002        C0071                  0.3201579810580884   \n",
            "C0003        C0181                  0.4775717980039302   \n",
            "C0003        C0134                  0.47101615387801016  \n",
            "C0003        C0144                  0.42379990716450344  \n",
            "C0004        C0070                  0.3519014889798181   \n",
            "C0004        C0175                  0.31609789792660986  \n",
            "C0004        C0132                  0.27959855424498276  \n",
            "C0005        C0096                  0.48745613929263837  \n",
            "C0005        C0023                  0.47025182492905426  \n",
            "C0005        C0055                  0.3820996241448576   \n",
            "C0006        C0040                  0.48690905811550494  \n",
            "C0006        C0178                  0.3978109049066894   \n",
            "C0006        C0058                  0.3141630233621915   \n",
            "C0007        C0079                  0.6174415040345886   \n",
            "C0007        C0118                  0.47827697423174215  \n",
            "C0007        C0020                  0.456615034666693    \n",
            "C0008        C0144                  0.326750548833923    \n",
            "C0008        C0169                  0.2788847602830608   \n",
            "C0008        C0091                  0.260560334551999    \n",
            "C0009        C0140                  0.5334414848517175   \n",
            "C0009        C0083                  0.5308424299367163   \n",
            "C0009        C0162                  0.49889269779678075  \n",
            "C0010        C0094                  0.5150640624213312   \n",
            "C0010        C0092                  0.40551651716491116  \n",
            "C0010        C0143                  0.36601219885018854  \n",
            "C0011        C0135                  0.5132829815830873   \n",
            "C0011        C0120                  0.36518919196353133  \n",
            "C0011        C0173                  0.30476072206930577  \n",
            "C0012        C0164                  0.48825704802260905  \n",
            "C0012        C0158                  0.3751295627905279   \n",
            "C0012        C0173                  0.3562327676008179   \n",
            "C0013        C0169                  0.45075553111040606  \n",
            "C0013        C0092                  0.36768012556506685  \n",
            "C0013        C0099                  0.31724495457460594  \n",
            "C0014        C0128                  0.9029431929322238   \n",
            "C0014        C0159                  0.762785383779116    \n",
            "C0014        C0058                  0.4170254520952296   \n",
            "C0015        C0073                  0.723118686204292    \n",
            "C0015        C0036                  0.5997106100667376   \n",
            "C0015        C0059                  0.4509810721195059   \n",
            "C0016        C0187                  0.6344636680418954   \n",
            "C0016        C0064                  0.5402930019578338   \n",
            "C0016        C0052                  0.4583307205365149   \n",
            "C0017        C0071                  0.45552083064813587  \n",
            "C0017        C0024                  0.35875591144627517  \n",
            "C0017        C0037                  0.355628091912283    \n",
            "C0018        C0177                  0.3650726150609098   \n",
            "C0018        C0115                  0.3248317582517501   \n",
            "C0018        C0059                  0.31189939390793797  \n",
            "C0019        C0064                  0.397781517608895    \n",
            "C0019        C0024                  0.38594281438544253  \n",
            "C0019        C0084                  0.31264571801309193  \n",
            "C0020        C0026                  0.6270690651519939   \n",
            "C0020        C0104                  0.4724650853066016   \n",
            "C0020        C0007                  0.456615034666693    \n"
          ]
        }
      ]
    },
    {
      "cell_type": "code",
      "source": [
        "customer_transactions = pd.merge(transactions, customers, on='CustomerID', how='left')\n",
        "customer_product_matrix = customer_transactions.groupby(['CustomerID', 'ProductID'])['Quantity'].sum().unstack(fill_value=0)\n",
        "\n",
        "scaler = StandardScaler()\n",
        "scaled_matrix = scaler.fit_transform(customer_product_matrix)\n",
        "\n",
        "cosine_similarities = cosine_similarity(scaled_matrix)\n",
        "cosine_sim_df = pd.DataFrame(cosine_similarities, index=customer_product_matrix.index, columns=customer_product_matrix.index)\n",
        "\n",
        "def find_top_similar_customers(customer_id, top_n=3):\n",
        "    similarities = cosine_sim_df.loc[customer_id].sort_values(ascending=False)\n",
        "    top_similar = similarities[similarities.index != customer_id].head(top_n)\n",
        "    return list(zip(top_similar.index, top_similar.values))\n",
        "\n",
        "lookalike_data = {}\n",
        "for customer_id in customer_product_matrix.index[:20]:\n",
        "    lookalike_data[customer_id] = find_top_similar_customers(customer_id)\n",
        "\n",
        "lookalike_df = pd.DataFrame.from_dict(lookalike_data, orient='index')\n",
        "lookalike_df.index.name = 'cust_id'\n",
        "lookalike_df.to_csv('Lookalike.csv')\n",
        "\n",
        "for customer_id, lookalikes in lookalike_data.items():\n",
        "    print(f\"Lookalike customers for {customer_id}: {lookalikes}\")"
      ],
      "metadata": {
        "colab": {
          "base_uri": "https://localhost:8080/"
        },
        "id": "ctXzunAVuOq_",
        "outputId": "734aa795-6000-464a-f87a-acfec6a5a436"
      },
      "execution_count": 23,
      "outputs": [
        {
          "output_type": "stream",
          "name": "stdout",
          "text": [
            "Lookalike customers for C0001: [('C0194', 0.40492753118932373), ('C0104', 0.3740015051203949), ('C0020', 0.36660865634533324)]\n",
            "Lookalike customers for C0002: [('C0030', 0.40461685378594003), ('C0091', 0.3837780302090941), ('C0071', 0.3201579810580884)]\n",
            "Lookalike customers for C0003: [('C0181', 0.4775717980039302), ('C0134', 0.47101615387801016), ('C0144', 0.42379990716450344)]\n",
            "Lookalike customers for C0004: [('C0070', 0.3519014889798181), ('C0175', 0.31609789792660986), ('C0132', 0.27959855424498276)]\n",
            "Lookalike customers for C0005: [('C0096', 0.48745613929263837), ('C0023', 0.47025182492905426), ('C0055', 0.3820996241448576)]\n",
            "Lookalike customers for C0006: [('C0040', 0.48690905811550494), ('C0178', 0.3978109049066894), ('C0058', 0.3141630233621915)]\n",
            "Lookalike customers for C0007: [('C0079', 0.6174415040345886), ('C0118', 0.47827697423174215), ('C0020', 0.456615034666693)]\n",
            "Lookalike customers for C0008: [('C0144', 0.326750548833923), ('C0169', 0.2788847602830608), ('C0091', 0.260560334551999)]\n",
            "Lookalike customers for C0009: [('C0140', 0.5334414848517175), ('C0083', 0.5308424299367163), ('C0162', 0.49889269779678075)]\n",
            "Lookalike customers for C0010: [('C0094', 0.5150640624213312), ('C0092', 0.40551651716491116), ('C0143', 0.36601219885018854)]\n",
            "Lookalike customers for C0011: [('C0135', 0.5132829815830873), ('C0120', 0.36518919196353133), ('C0173', 0.30476072206930577)]\n",
            "Lookalike customers for C0012: [('C0164', 0.48825704802260905), ('C0158', 0.3751295627905279), ('C0173', 0.3562327676008179)]\n",
            "Lookalike customers for C0013: [('C0169', 0.45075553111040606), ('C0092', 0.36768012556506685), ('C0099', 0.31724495457460594)]\n",
            "Lookalike customers for C0014: [('C0128', 0.9029431929322238), ('C0159', 0.762785383779116), ('C0058', 0.4170254520952296)]\n",
            "Lookalike customers for C0015: [('C0073', 0.723118686204292), ('C0036', 0.5997106100667376), ('C0059', 0.4509810721195059)]\n",
            "Lookalike customers for C0016: [('C0187', 0.6344636680418954), ('C0064', 0.5402930019578338), ('C0052', 0.4583307205365149)]\n",
            "Lookalike customers for C0017: [('C0071', 0.45552083064813587), ('C0024', 0.35875591144627517), ('C0037', 0.355628091912283)]\n",
            "Lookalike customers for C0018: [('C0177', 0.3650726150609098), ('C0115', 0.3248317582517501), ('C0059', 0.31189939390793797)]\n",
            "Lookalike customers for C0019: [('C0064', 0.397781517608895), ('C0024', 0.38594281438544253), ('C0084', 0.31264571801309193)]\n",
            "Lookalike customers for C0020: [('C0026', 0.6270690651519939), ('C0104', 0.4724650853066016), ('C0007', 0.456615034666693)]\n"
          ]
        }
      ]
    },
    {
      "cell_type": "code",
      "source": [
        "import pandas as pd\n",
        "from sklearn.metrics.pairwise import cosine_similarity\n",
        "from sklearn.preprocessing import StandardScaler\n",
        "\n",
        "customers = pd.read_csv('/content/Customers.csv')\n",
        "products = pd.read_csv('/content/Products.csv')\n",
        "transactions = pd.read_csv('/content/Transactions.csv')\n",
        "\n",
        "customer_transactions = pd.merge(transactions, customers, on='CustomerID', how='left')\n",
        "customer_product_matrix = customer_transactions.groupby(['CustomerID', 'ProductID'])['Quantity'].sum().unstack(fill_value=0)\n",
        "\n",
        "scaler = StandardScaler()\n",
        "scaled_matrix = scaler.fit_transform(customer_product_matrix)\n",
        "\n",
        "cosine_similarities = cosine_similarity(scaled_matrix)\n",
        "cosine_sim_df = pd.DataFrame(cosine_similarities, index=customer_product_matrix.index, columns=customer_product_matrix.index)\n",
        "\n",
        "def recommend_customers(customer_id, top_n=3):\n",
        "    \"\"\"Recommends similar customers based on transaction history.\"\"\"\n",
        "    try:\n",
        "      similarities = cosine_sim_df.loc[customer_id].sort_values(ascending=False)\n",
        "      top_similar = similarities[similarities.index != customer_id].head(top_n)\n",
        "      return list(zip(top_similar.index, top_similar.values))\n",
        "    except KeyError:\n",
        "      print(f\"Customer ID {customer_id} not found in the dataset.\")\n",
        "      return []\n",
        "\n",
        "user_customer_id = input(\"Enter Customer ID: \")\n",
        "recommendations = recommend_customers(user_customer_id)\n",
        "\n",
        "if recommendations:\n",
        "    print(f\"Top {len(recommendations)} similar customers for Customer {user_customer_id}:\")\n",
        "    for customer_id, similarity_score in recommendations:\n",
        "      print(f\"Customer ID: {customer_id}, Similarity Score: {similarity_score}\")"
      ],
      "metadata": {
        "colab": {
          "base_uri": "https://localhost:8080/"
        },
        "id": "QB9EIeNAvhHM",
        "outputId": "7ea34954-e3d6-4610-b89b-1605468e6012"
      },
      "execution_count": 34,
      "outputs": [
        {
          "output_type": "stream",
          "name": "stdout",
          "text": [
            "Enter Customer ID: C0007\n",
            "Top 3 similar customers for Customer C0007:\n",
            "Customer ID: C0079, Similarity Score: 0.6174415040345886\n",
            "Customer ID: C0118, Similarity Score: 0.47827697423174215\n",
            "Customer ID: C0020, Similarity Score: 0.456615034666693\n"
          ]
        }
      ]
    },
    {
      "cell_type": "code",
      "source": [
        "while True:\n",
        "    user_customer_id = input(\"Enter Customer ID: \")\n",
        "    recommendations = recommend_customers(user_customer_id)\n",
        "\n",
        "    if recommendations:\n",
        "        print(f\"Top {len(recommendations)} similar customers for Customer {user_customer_id}:\")\n",
        "        for customer_id, similarity_score in recommendations:\n",
        "            print(f\"Customer ID: {customer_id}, Similarity Score: {similarity_score}\")\n",
        "\n",
        "    another_query = input(\"Do you want to query another customer? (yes/no): \")\n",
        "    if another_query.lower() != 'yes':\n",
        "        break"
      ],
      "metadata": {
        "colab": {
          "base_uri": "https://localhost:8080/"
        },
        "id": "s7Mk6FB_wGq8",
        "outputId": "3be0c87e-0797-4d0d-c9ff-05c448bf580f"
      },
      "execution_count": 35,
      "outputs": [
        {
          "name": "stdout",
          "output_type": "stream",
          "text": [
            "Enter Customer ID: C0001\n",
            "Top 3 similar customers for Customer C0001:\n",
            "Customer ID: C0194, Similarity Score: 0.40492753118932373\n",
            "Customer ID: C0104, Similarity Score: 0.3740015051203949\n",
            "Customer ID: C0020, Similarity Score: 0.36660865634533324\n",
            "Do you want to query another customer? (yes/no): yes\n",
            "Enter Customer ID: C0005\n",
            "Top 3 similar customers for Customer C0005:\n",
            "Customer ID: C0096, Similarity Score: 0.48745613929263837\n",
            "Customer ID: C0023, Similarity Score: 0.47025182492905426\n",
            "Customer ID: C0055, Similarity Score: 0.3820996241448576\n",
            "Do you want to query another customer? (yes/no): no\n"
          ]
        }
      ]
    }
  ]
}